{
 "cells": [
  {
   "cell_type": "code",
   "execution_count": null,
   "id": "a313cf74",
   "metadata": {},
   "outputs": [],
   "source": [
    "print(\"安裝1:vscode\")\n",
    "print(\"安裝2:mini-conda\")\n",
    "print(\"安裝3:git\")"
   ]
  }
 ],
 "metadata": {
  "kernelspec": {
   "display_name": "base",
   "language": "python",
   "name": "python3"
  },
  "language_info": {
   "name": "python",
   "version": "3.13.5"
  }
 },
 "nbformat": 4,
 "nbformat_minor": 5
}
